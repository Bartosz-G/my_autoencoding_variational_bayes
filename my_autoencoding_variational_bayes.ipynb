{
 "cells": [
  {
   "cell_type": "code",
   "execution_count": 11,
   "metadata": {
    "pycharm": {
     "name": "#%%\n"
    }
   },
   "outputs": [],
   "source": [
    "import torch\n",
    "import numpy as np\n",
    "import torch.nn as nn\n",
    "import matplotlib.pyplot as plt\n",
    "from torchvision.datasets import MNIST\n",
    "from torch.utils.data import DataLoader\n",
    "import torchvision.transforms as transforms\n",
    "import os"
   ]
  },
  {
   "cell_type": "code",
   "execution_count": 12,
   "outputs": [],
   "source": [
    "absolute_path = os.path.join(os.getcwd(), '/mnist')"
   ],
   "metadata": {
    "collapsed": false,
    "pycharm": {
     "name": "#%%\n"
    }
   }
  },
  {
   "cell_type": "code",
   "execution_count": 13,
   "metadata": {
    "pycharm": {
     "name": "#%%\n"
    }
   },
   "outputs": [],
   "source": [
    "transform = transforms.Compose([transforms.ToTensor()])\n",
    "\n",
    "train_dataset = MNIST(os.getcwd(), transform=transform, download=True)\n",
    "test_dataset  = MNIST(os.getcwd(), transform=transform, download=True)\n",
    "\n",
    "train_loader = DataLoader(train_dataset, batch_size=64, shuffle=True)\n",
    "test_loader = DataLoader(test_dataset, batch_size=len(test_dataset), shuffle=False)\n",
    "\n",
    "one_image_loader = DataLoader(train_dataset, batch_size=1, shuffle=True) # For visualising"
   ]
  },
  {
   "cell_type": "code",
   "execution_count": 14,
   "outputs": [],
   "source": [
    "def plot_image(tensor):\n",
    "\n",
    "    if tensor.shape[0] == 1:\n",
    "        tensor = tensor.squeeze(0)\n",
    "\n",
    "    image = tensor.numpy()\n",
    "\n",
    "\n",
    "    plt.imshow(image, cmap='gray' if tensor.ndim == 2 else None)\n",
    "    plt.axis('off')\n",
    "    plt.show()"
   ],
   "metadata": {
    "collapsed": false,
    "pycharm": {
     "name": "#%%\n"
    }
   }
  },
  {
   "cell_type": "code",
   "execution_count": 53,
   "outputs": [
    {
     "data": {
      "text/plain": "<Figure size 640x480 with 1 Axes>",
      "image/png": "[encoded data removed]"
     },
     "metadata": {},
     "output_type": "display_data"
    }
   ],
   "source": [
    "plot_image(train_dataset[5][0])"
   ],
   "metadata": {
    "collapsed": false,
    "pycharm": {
     "name": "#%%\n"
    }
   }
  },
  {
   "cell_type": "markdown",
   "source": [
    "# Gaussian-Gaussian Autoencoder:"
   ],
   "metadata": {
    "collapsed": false,
    "pycharm": {
     "name": "#%% md\n"
    }
   }
  },
  {
   "cell_type": "code",
   "execution_count": 54,
   "outputs": [],
   "source": [
    "class GaussianAutoEncodingVariationalBayes(nn.Module):\n",
    "    def __init__(self, input_dim, hidden_layers, inter_dim = 256, classification = False):\n",
    "        super(GaussianAutoEncodingVariationalBayes, self).__init__()\n",
    "\n",
    "        self.input_dim = input_dim\n",
    "        self.hidden_layers = hidden_layers\n",
    "        self.inter_dim = inter_dim\n",
    "\n",
    "        # Appendix C.2, switch-out Z with X as described ============================\n",
    "        self.encoder_mlp = nn.Sequential(\n",
    "            nn.Linear(self.input_dim, inter_dim), # Here are the weights W_3 that make up phi\n",
    "            nn.Tanh(),\n",
    "        )\n",
    "\n",
    "        self.latent_u_prediction_head = nn.Linear(inter_dim, hidden_layers) # Here are the weights W_4 that make up phi\n",
    "        self.latent_variance_prediction_head = nn.Linear(inter_dim, hidden_layers) # Here are the weights W_5 that make up phi\n",
    "        # ===========================================================================\n",
    "\n",
    "\n",
    "        # Appendix C.2, implemented exactly in this way ---------------------------------\n",
    "        self.decoder_mlp = nn.Sequential(\n",
    "            nn.Linear(hidden_layers, inter_dim), # Here are the weights W_3 that make up theta\n",
    "            nn.Tanh()\n",
    "        )\n",
    "\n",
    "        if classification:\n",
    "            self.output_u_prediction_head = nn.Sequential(\n",
    "            nn.Linear(inter_dim, input_dim), # Here are the weights W_4 that make up theta\n",
    "            nn.Sigmoid() # Page 6 last sentence explains this part\n",
    "            )\n",
    "        else:\n",
    "            nn.Linear(inter_dim,input_dim) # Here are the weights W_4 that make up theta\n",
    "\n",
    "        self.output_variance_prediction_head = nn.Linear(inter_dim, input_dim) # Here are the weights W_5 that make up theta\n",
    "        # ---------------------------------------------------------------------------------\n",
    "\n",
    "    def encoder_forward(self, X):\n",
    "        h = self.encoder_mlp(X)\n",
    "        latent_u = self.latent_u_prediction_head(h)\n",
    "        latent_variance = self.latent_variance_prediction_head(h)\n",
    "\n",
    "        latent_logvariance = torch.log(latent_variance)\n",
    "\n",
    "        return latent_u, latent_logvariance # These are the estimates of parameters for q_phi(Z|X) ~ N(latent_u, latent_variance)\n",
    "\n",
    "    def decoder_forward(self, latent_u, latent_logvariance, sampled_error_e = 0):\n",
    "        Z = latent_u + torch.sqrt(torch.exp(latent_logvariance))*sampled_error_e # Latent variables Z\n",
    "        # We sample from prior only during training, so during prediction Z = latent_u\n",
    "\n",
    "        h = self.decoder_mlp(Z)\n",
    "        output_u = self.output_u_prediction_head(h) # This is the main prediction of X_hat\n",
    "        output_variance = self.output_variance_prediction_head(h) # Not needed to reconstruct, but gives us an estimate of the variance\n",
    "\n",
    "        output_logvariance = torch.log(output_variance)\n",
    "\n",
    "        return output_u, output_logvariance # These are the estimates of parameters for p_theta(X|Z) ~ N(output_u, output_variance)\n",
    "\n",
    "    def sample_from_prior(self):\n",
    "        samples = torch.randn(self.hidden_layers) # This is a prior p(Z) ~ N(0,1)\n",
    "        return samples\n",
    "\n",
    "    def forward(self, X):\n",
    "        latent_u, latent_logvariance = self.encoder_forward(X)\n",
    "\n",
    "        sampled_error_e = self.sample_from_prior()\n",
    "\n",
    "        X_hat, logvariance = self.decoder_forward(latent_u, latent_logvariance, sampled_error_e)\n",
    "\n",
    "        return X_hat, logvariance, latent_u, latent_logvariance"
   ],
   "metadata": {
    "collapsed": false,
    "pycharm": {
     "name": "#%%\n"
    }
   }
  },
  {
   "cell_type": "markdown",
   "source": [
    "# Gaussian-Bernoulli Autoencoder:"
   ],
   "metadata": {
    "collapsed": false,
    "pycharm": {
     "name": "#%% md\n"
    }
   }
  },
  {
   "cell_type": "code",
   "execution_count": 55,
   "outputs": [],
   "source": [
    "class BernoulliAutoEncodingVariationalBayes(nn.Module):\n",
    "    def __init__(self, input_dim, hidden_layers, inter_dim = 256):\n",
    "        super(BernoulliAutoEncodingVariationalBayes, self).__init__()\n",
    "\n",
    "        self.input_dim = input_dim\n",
    "        self.hidden_layers = hidden_layers\n",
    "        self.inter_dim = inter_dim\n",
    "\n",
    "        # Appendix C.2, switch-out Z with X as described ============================\n",
    "        self.encoder_mlp = nn.Sequential(\n",
    "            nn.Linear(self.input_dim, inter_dim), # Here are the weights W_3 that make up phi\n",
    "            nn.Tanh(),\n",
    "        )\n",
    "\n",
    "        self.latent_u_prediction_head = nn.Linear(inter_dim, hidden_layers) # Here are the weights W_4 that make up phi\n",
    "        self.latent_variance_prediction_head = nn.Linear(inter_dim, hidden_layers) # Here are the weights W_5 that make up phi\n",
    "        # ===========================================================================\n",
    "\n",
    "\n",
    "        # Appendix C.1, implemented exactly in this way ---------------------------------\n",
    "        self.decoder_mlp = nn.Sequential(\n",
    "            nn.Linear(hidden_layers, inter_dim), # Here are the weights W_1 that make up theta\n",
    "            nn.Tanh(),\n",
    "            nn.Linear(inter_dim, input_dim), # Here are the weights W_2 that make up theta\n",
    "            nn.Sigmoid()\n",
    "        )\n",
    "        # ---------------------------------------------------------------------------------\n",
    "\n",
    "\n",
    "    def encoder_forward(self, X):\n",
    "        h = self.encoder_mlp(X)\n",
    "        latent_u = self.latent_u_prediction_head(h)\n",
    "        latent_variance = self.latent_variance_prediction_head(h)\n",
    "\n",
    "        latent_logvariance = torch.log(latent_variance)\n",
    "\n",
    "        return latent_u, latent_logvariance # These are the estimates of parameters for q_phi(Z|X) ~ N(latent_u, latent_variance)\n",
    "\n",
    "    def decoder_forward(self, latent_u, latent_logvariance, sampled_error_e = 0):\n",
    "        Z = latent_u + torch.sqrt(torch.exp(latent_logvariance))*sampled_error_e # Latent variables Z\n",
    "        # We sample from prior only during training, so during prediction Z = latent_u\n",
    "\n",
    "        output_u = self.decoder_mlp(Z)\n",
    "\n",
    "        return output_u # These are the estimates of parameters for p_theta(X|Z) ~ Bernoulli(Z)\n",
    "\n",
    "    def sample_from_prior(self):\n",
    "        samples = torch.randn(self.hidden_layers) # This is a prior p(Z) ~ N(0,1)\n",
    "        return samples\n",
    "\n",
    "    def forward(self, X):\n",
    "        latent_u, latent_logvariance = self.encoder_forward(X)\n",
    "\n",
    "        sampled_error_e = self.sample_from_prior()\n",
    "\n",
    "        X_hat = self.decoder_forward(latent_u, latent_logvariance, sampled_error_e)\n",
    "\n",
    "        return X_hat, latent_u, latent_logvariance"
   ],
   "metadata": {
    "collapsed": false,
    "pycharm": {
     "name": "#%%\n"
    }
   }
  },
  {
   "cell_type": "code",
   "execution_count": 56,
   "outputs": [],
   "source": [
    "def init_weights(m):\n",
    "    if isinstance(m, nn.Linear):\n",
    "        nn.init.xavier_uniform_(m.weight)\n",
    "        m.bias.data.fill_(0.01)"
   ],
   "metadata": {
    "collapsed": false,
    "pycharm": {
     "name": "#%%\n"
    }
   }
  },
  {
   "cell_type": "markdown",
   "source": [
    "# Testing whether the VAE works:"
   ],
   "metadata": {
    "collapsed": false,
    "pycharm": {
     "name": "#%% md\n"
    }
   }
  },
  {
   "cell_type": "code",
   "execution_count": 61,
   "outputs": [
    {
     "data": {
      "text/plain": "(tensor([[0.5073, 0.5163, 0.5178, 0.4656, 0.4790, 0.4532, 0.5372, 0.4992, 0.5237,\n          0.5404, 0.5199, 0.5250, 0.5001, 0.5147, 0.5039, 0.5130, 0.5101, 0.5214,\n          0.5012, 0.4536, 0.4911, 0.4909, 0.5031, 0.4871, 0.4885, 0.5105, 0.5089,\n          0.4882, 0.5056, 0.4907, 0.4916, 0.5120, 0.4734, 0.4863, 0.4884, 0.5276,\n          0.5136, 0.5441, 0.5154, 0.5224, 0.5214, 0.5143, 0.5148, 0.5292, 0.5361,\n          0.4532, 0.4850, 0.5176, 0.4856, 0.5044, 0.4816, 0.4653, 0.4839, 0.4773,\n          0.5139, 0.4884, 0.5229, 0.4914, 0.5155, 0.5421, 0.4783, 0.5234, 0.4890,\n          0.5264, 0.5076, 0.5346, 0.4885, 0.5048, 0.4694, 0.5172, 0.4823, 0.4979,\n          0.5142, 0.5202, 0.4899, 0.5279, 0.5014, 0.4898, 0.4941, 0.4886, 0.4962,\n          0.4727, 0.4478, 0.4869, 0.4876, 0.4897, 0.5134, 0.5343, 0.5349, 0.5024,\n          0.4703, 0.4627, 0.4918, 0.5339, 0.4636, 0.5198, 0.5112, 0.5252, 0.5143,\n          0.5414, 0.5339, 0.5208, 0.5191, 0.5021, 0.4740, 0.4955, 0.5172, 0.4917,\n          0.5004, 0.5231, 0.5067, 0.4902, 0.4397, 0.5301, 0.5162, 0.4955, 0.5074,\n          0.5352, 0.5025, 0.5192, 0.5079, 0.5056, 0.4818, 0.4879, 0.4876, 0.5155,\n          0.4867, 0.5068, 0.4982, 0.5177, 0.4964, 0.5119, 0.5197, 0.5344, 0.5136,\n          0.5119, 0.5049, 0.4962, 0.5098, 0.5174, 0.4900, 0.5017, 0.4671, 0.4785,\n          0.5106, 0.5448, 0.4904, 0.4998, 0.4867, 0.5072, 0.4894, 0.5081, 0.5389,\n          0.5043, 0.5131, 0.5018, 0.5047, 0.4983, 0.4840, 0.5050, 0.4859, 0.5007,\n          0.5128, 0.5102, 0.4917, 0.5266, 0.5111, 0.5133, 0.4710, 0.4950, 0.5267,\n          0.5178, 0.4743, 0.5023, 0.4876, 0.4913, 0.5062, 0.5449, 0.5360, 0.4938,\n          0.4892, 0.4801, 0.4791, 0.4723, 0.4605, 0.5013, 0.5194, 0.4886, 0.4917,\n          0.5148, 0.4924, 0.4591, 0.5230, 0.5091, 0.4969, 0.5171, 0.5324, 0.4599,\n          0.5258, 0.4838, 0.4967, 0.5282, 0.5283, 0.5062, 0.4822, 0.5158, 0.4869,\n          0.4943, 0.5076, 0.5163, 0.5076, 0.5108, 0.5026, 0.5061, 0.5020, 0.5091,\n          0.5251, 0.5021, 0.4972, 0.4875, 0.5271, 0.4986, 0.5071, 0.5171, 0.4954,\n          0.4809, 0.4674, 0.4746, 0.4846, 0.4881, 0.4881, 0.5336, 0.5079, 0.5203,\n          0.4867, 0.5163, 0.5163, 0.4978, 0.4976, 0.4672, 0.4996, 0.4963, 0.4931,\n          0.4886, 0.4906, 0.4259, 0.5069, 0.4570, 0.5097, 0.5288, 0.5121, 0.4987,\n          0.4972, 0.4924, 0.5588, 0.5430, 0.5102, 0.5168, 0.5191, 0.5289, 0.5003,\n          0.4945, 0.4996, 0.5278, 0.4978, 0.4986, 0.4948, 0.5067, 0.5381, 0.5198,\n          0.4920, 0.5397, 0.5009, 0.5133, 0.4936, 0.4730, 0.5055, 0.5108, 0.4932,\n          0.5470, 0.5043, 0.5212, 0.4915, 0.5063, 0.5232, 0.5190, 0.5247, 0.4924,\n          0.5093, 0.4956, 0.5326, 0.5383, 0.4773, 0.4931, 0.4922, 0.4795, 0.4878,\n          0.4882, 0.5022, 0.4816, 0.4972, 0.4803, 0.5065, 0.4528, 0.4567, 0.5114,\n          0.5040, 0.4915, 0.4917, 0.5370, 0.5009, 0.4970, 0.5118, 0.4810, 0.4879,\n          0.5034, 0.4824, 0.5110, 0.5143, 0.4939, 0.5255, 0.5258, 0.5263, 0.5244,\n          0.4865, 0.4861, 0.4951, 0.5273, 0.5112, 0.4807, 0.4843, 0.5484, 0.4871,\n          0.5100, 0.4771, 0.5268, 0.4755, 0.4851, 0.4896, 0.5137, 0.5137, 0.5138,\n          0.5066, 0.5165, 0.5265, 0.4719, 0.5340, 0.5245, 0.5063, 0.5223, 0.4647,\n          0.5223, 0.4980, 0.4910, 0.5121, 0.4793, 0.5240, 0.4903, 0.4845, 0.4851,\n          0.5164, 0.5078, 0.5310, 0.5382, 0.5072, 0.5073, 0.4864, 0.5060, 0.5171,\n          0.4888, 0.4828, 0.5027, 0.5282, 0.5092, 0.4880, 0.5004, 0.5449, 0.5025,\n          0.5141, 0.5026, 0.5169, 0.5043, 0.4728, 0.5275, 0.5312, 0.5241, 0.4934,\n          0.4650, 0.4743, 0.4572, 0.5249, 0.5047, 0.4954, 0.5278, 0.4918, 0.5102,\n          0.5277, 0.4986, 0.5290, 0.5163, 0.4756, 0.5084, 0.5155, 0.5037, 0.4884,\n          0.4811, 0.4889, 0.5103, 0.4961, 0.4834, 0.5284, 0.5060, 0.5262, 0.4883,\n          0.5097, 0.4878, 0.4839, 0.4914, 0.5064, 0.5120, 0.5226, 0.4905, 0.5184,\n          0.5094, 0.5103, 0.5248, 0.5236, 0.4969, 0.5071, 0.5120, 0.5130, 0.4792,\n          0.5264, 0.5645, 0.4950, 0.4765, 0.5193, 0.5190, 0.5208, 0.4939, 0.5162,\n          0.5273, 0.5333, 0.4757, 0.5263, 0.4922, 0.4925, 0.5082, 0.4867, 0.5248,\n          0.4919, 0.5452, 0.4927, 0.4907, 0.4932, 0.4731, 0.5313, 0.4900, 0.5202,\n          0.5039, 0.5113, 0.4957, 0.4900, 0.5258, 0.4837, 0.5147, 0.4976, 0.4993,\n          0.5308, 0.5174, 0.5206, 0.5039, 0.5128, 0.5139, 0.5031, 0.4829, 0.5322,\n          0.4591, 0.5023, 0.5090, 0.4666, 0.5365, 0.5328, 0.5090, 0.4769, 0.4787,\n          0.5044, 0.4795, 0.4986, 0.5025, 0.4888, 0.5253, 0.5337, 0.5400, 0.4862,\n          0.5004, 0.5005, 0.5086, 0.4909, 0.4796, 0.4863, 0.5095, 0.5132, 0.5058,\n          0.5030, 0.5313, 0.4955, 0.5020, 0.5123, 0.5221, 0.5178, 0.4765, 0.5051,\n          0.5324, 0.4866, 0.4668, 0.5116, 0.4986, 0.5451, 0.4540, 0.5378, 0.4826,\n          0.4999, 0.4966, 0.5280, 0.4741, 0.4819, 0.4841, 0.5330, 0.5188, 0.5146,\n          0.5213, 0.4793, 0.4856, 0.4762, 0.4768, 0.5209, 0.5137, 0.5123, 0.4869,\n          0.4672, 0.5087, 0.5164, 0.5352, 0.4785, 0.5186, 0.4856, 0.5045, 0.5108,\n          0.4790, 0.4961, 0.4773, 0.4930, 0.5075, 0.4901, 0.5110, 0.5318, 0.5049,\n          0.4936, 0.5171, 0.4981, 0.5027, 0.4934, 0.5064, 0.5195, 0.5332, 0.5458,\n          0.4702, 0.4873, 0.5092, 0.5214, 0.5095, 0.4883, 0.5090, 0.4878, 0.5316,\n          0.5034, 0.4718, 0.5148, 0.4633, 0.4830, 0.5137, 0.5101, 0.5188, 0.5324,\n          0.4913, 0.4892, 0.5070, 0.5293, 0.5328, 0.5366, 0.5046, 0.5449, 0.5129,\n          0.4779, 0.4943, 0.4718, 0.4949, 0.4972, 0.5053, 0.5149, 0.4880, 0.5093,\n          0.4945, 0.5202, 0.4741, 0.5066, 0.5162, 0.5090, 0.5304, 0.5166, 0.5023,\n          0.5347, 0.4934, 0.5241, 0.4978, 0.5201, 0.4976, 0.5222, 0.5153, 0.5036,\n          0.4813, 0.5052, 0.4846, 0.5325, 0.5109, 0.4669, 0.5120, 0.5034, 0.5134,\n          0.5182, 0.5074, 0.5492, 0.4819, 0.5284, 0.5093, 0.4971, 0.4854, 0.5177,\n          0.4999, 0.4996, 0.5168, 0.4763, 0.5032, 0.4851, 0.5187, 0.5112, 0.5053,\n          0.4936, 0.4817, 0.4806, 0.5061, 0.5008, 0.4738, 0.4855, 0.4990, 0.5318,\n          0.5283, 0.5031, 0.5016, 0.4721, 0.5236, 0.5007, 0.4921, 0.5235, 0.5127,\n          0.5268, 0.5157, 0.4989, 0.5302, 0.5270, 0.5182, 0.5153, 0.4491, 0.5289,\n          0.4991, 0.5065, 0.4797, 0.4850, 0.5268, 0.4945, 0.5043, 0.5328, 0.5272,\n          0.4855, 0.4925, 0.4609, 0.5158, 0.4742, 0.5344, 0.5428, 0.4872, 0.5092,\n          0.5028, 0.5227, 0.4849, 0.5070, 0.4817, 0.4891, 0.5290, 0.4784, 0.4627,\n          0.5251, 0.4795, 0.5421, 0.4722, 0.5108, 0.5250, 0.4906, 0.5022, 0.4826,\n          0.5085, 0.5518, 0.4902, 0.5211, 0.5515, 0.5409, 0.5129, 0.4912, 0.4811,\n          0.4831, 0.4999, 0.4971, 0.4907, 0.5332, 0.4957, 0.4984, 0.4924, 0.5004,\n          0.5005, 0.4677, 0.4856, 0.4861, 0.5166, 0.5196, 0.5242, 0.4890, 0.4995,\n          0.4998, 0.4921, 0.4796, 0.5188, 0.4957, 0.5172, 0.4904, 0.5041, 0.5220,\n          0.5160, 0.4921, 0.4720, 0.4943, 0.5039, 0.5055, 0.5077, 0.5488, 0.5372,\n          0.4450, 0.4826, 0.4834, 0.5297, 0.4998, 0.5070, 0.5357, 0.4618, 0.5374,\n          0.5088, 0.4858, 0.4763, 0.5378, 0.5231, 0.5360, 0.4899, 0.4986, 0.5193,\n          0.4941, 0.5205, 0.5085, 0.5133, 0.5002, 0.4769, 0.4658, 0.4950, 0.5095,\n          0.5148]], grad_fn=<SigmoidBackward0>),\n tensor([[ 0.2868, -0.1158]], grad_fn=<AddmmBackward0>),\n tensor([[-0.9603, -0.7864]], grad_fn=<LogBackward0>))"
     },
     "execution_count": 61,
     "metadata": {},
     "output_type": "execute_result"
    }
   ],
   "source": [
    "GVAE = GaussianAutoEncodingVariationalBayes(784, 2, classification=True)\n",
    "BVAE = BernoulliAutoEncodingVariationalBayes(784, 2)\n",
    "GVAE.apply(init_weights)\n",
    "BVAE.apply(init_weights)\n",
    "\n",
    "\n",
    "single_image, _ = next(iter(one_image_loader))\n",
    "single_image = single_image.view(single_image.size(0),-1)\n",
    "\n",
    "GVAE(single_image)[0]\n",
    "BVAE(single_image)"
   ],
   "metadata": {
    "collapsed": false,
    "pycharm": {
     "name": "#%%\n"
    }
   }
  },
  {
   "cell_type": "markdown",
   "source": [
    "# Gaussian Loss function:"
   ],
   "metadata": {
    "collapsed": false,
    "pycharm": {
     "name": "#%% md\n"
    }
   }
  },
  {
   "cell_type": "code",
   "execution_count": 51,
   "outputs": [],
   "source": [
    "def gaussian_log_likelihood(X, X_hat, logvar):\n",
    "    reconstruction_loss = torch.sum(-0.5 * (torch.log(2 * torch.pi) + logvar + (X - X_hat) ** 2 / torch.exp(logvar)))\n",
    "    return reconstruction_loss / X.size(0)  # Normalize by batch size\n",
    "\n",
    "\n",
    "def kullback_leiber_divergence(latent_u, latent_logvar):\n",
    "    kl_div = -0.5 * torch.sum(1 + latent_logvar - latent_u.pow(2) - latent_logvar.exp())\n",
    "    return kl_div"
   ],
   "metadata": {
    "collapsed": false,
    "pycharm": {
     "name": "#%%\n"
    }
   }
  },
  {
   "cell_type": "markdown",
   "source": [
    "# Gaussian Training"
   ],
   "metadata": {
    "collapsed": false,
    "pycharm": {
     "name": "#%% md\n"
    }
   }
  },
  {
   "cell_type": "code",
   "execution_count": null,
   "outputs": [],
   "source": [
    "GVAE = GaussianAutoEncodingVariationalBayes(784, 2, classification = True)\n",
    "GVAE.apply(init_weights)\n",
    "epochs = 50"
   ],
   "metadata": {
    "collapsed": false,
    "pycharm": {
     "name": "#%%\n"
    }
   }
  }
 ],
 "metadata": {
  "kernelspec": {
   "display_name": "Python 3 (ipykernel)",
   "language": "python",
   "name": "python3"
  },
  "language_info": {
   "codemirror_mode": {
    "name": "ipython",
    "version": 3
   },
   "file_extension": ".py",
   "mimetype": "text/x-python",
   "name": "python",
   "nbconvert_exporter": "python",
   "pygments_lexer": "ipython3",
   "version": "3.11.6"
  }
 },
 "nbformat": 4,
 "nbformat_minor": 1
}