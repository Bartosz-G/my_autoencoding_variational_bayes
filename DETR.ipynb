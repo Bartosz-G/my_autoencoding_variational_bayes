{
 "cells": [
  {
   "cell_type": "code",
   "execution_count": 1,
   "metadata": {
    "collapsed": true,
    "pycharm": {
     "name": "#%%\n"
    }
   },
   "outputs": [],
   "source": [
    "import torch\n",
    "import torch.nn as nn\n",
    "import torch.nn.init as init\n",
    "import torch.nn.functional as F\n",
    "from torchvision.datasets import CocoDetection"
   ]
  },
  {
   "cell_type": "markdown",
   "source": [
    "# Backbone Init"
   ],
   "metadata": {
    "collapsed": false,
    "pycharm": {
     "name": "#%% md\n"
    }
   }
  },
  {
   "cell_type": "code",
   "execution_count": 6,
   "outputs": [],
   "source": [
    "class ResNetBackBone(nn.Module):\n",
    "    def __init__(self, pretrained_model):\n",
    "        super(ResNetBackBone, self).__init__()\n",
    "        self.features = nn.Sequential(\n",
    "            *list(pretrained_model.children())[:-2]\n",
    "        )\n",
    "\n",
    "        self.avgpool = nn.AvgPool2d(kernel_size=1, stride=1, padding=0)\n",
    "        self.fc = nn.Conv2d(512, 256, 1)\n",
    "\n",
    "    def forward(self, x):\n",
    "        x = self.features(x)\n",
    "        x = self.avgpool(x)\n",
    "        x = self.fc(x)\n",
    "        return x"
   ],
   "metadata": {
    "collapsed": false,
    "pycharm": {
     "name": "#%%\n"
    }
   }
  },
  {
   "cell_type": "code",
   "execution_count": 7,
   "outputs": [
    {
     "name": "stderr",
     "output_type": "stream",
     "text": [
      "Using cache found in /Users/bartoszgawin/.cache/torch/hub/pytorch_vision_v0.10.0\n"
     ]
    }
   ],
   "source": [
    "resnet18 = ResNetBackBone(pretrained_model=torch.hub.load('pytorch/vision:v0.10.0', 'resnet18', pretrained=True))"
   ],
   "metadata": {
    "collapsed": false,
    "pycharm": {
     "name": "#%%\n"
    }
   }
  },
  {
   "cell_type": "code",
   "execution_count": 8,
   "outputs": [],
   "source": [
    "for param in resnet18.features.parameters():\n",
    "    param.requires_grad = False\n",
    "\n",
    "resnet18.avgpool.requires_grad = False\n",
    "resnet18.fc.requires_grad = True"
   ],
   "metadata": {
    "collapsed": false,
    "pycharm": {
     "name": "#%%\n"
    }
   }
  },
  {
   "cell_type": "markdown",
   "source": [
    "# Building the Transformer blocks"
   ],
   "metadata": {
    "collapsed": false,
    "pycharm": {
     "name": "#%% md\n"
    }
   }
  },
  {
   "cell_type": "code",
   "execution_count": 9,
   "outputs": [],
   "source": [
    "class EncoderBlock(nn.Module):\n",
    "    def __init__(self, embedding_dim, num_heads, dropout = 0):\n",
    "        super(EncoderBlock, self).__init__()\n",
    "        self.attention_matrices = None\n",
    "\n",
    "        self.multi_head_attention = nn.MultiheadAttention(embed_dim=embedding_dim, num_heads=num_heads, batch_first=True)\n",
    "        self.norm_1 = nn.LayerNorm(embedding_dim)\n",
    "        self.dropout_1 = nn.Dropout(p = dropout)\n",
    "\n",
    "        self.fully_connected = nn.Sequential(\n",
    "            nn.Conv1d(in_channels=embedding_dim, out_channels=embedding_dim, kernel_size=1, stride=1, padding=0),\n",
    "            nn.ReLU(),\n",
    "            nn.Conv1d(in_channels=embedding_dim, out_channels=embedding_dim, kernel_size=1, stride=1, padding=0)\n",
    "        )\n",
    "\n",
    "        self.dropout_2 = nn.Dropout(p = dropout)\n",
    "        self.norm_2 = nn.LayerNorm(embedding_dim)\n",
    "\n",
    "    def forward(self, X, positional_encoding):\n",
    "        spatially_encoded = X + positional_encoding\n",
    "        attention_output, self.attention_matrices = self.multi_head_attention(X, spatially_encoded, spatially_encoded, average_attn_weights=True)\n",
    "\n",
    "        print(f'attention_output dim: {attention_output.shape}')\n",
    "\n",
    "        attention_output = self.norm_1(X + self.dropout_1(attention_output))\n",
    "        fc_output = self.fully_connected(attention_output.permute(0, 2, 1)).permute(0, 2, 1)\n",
    "        output = self.norm_2(attention_output + self.dropout_2(fc_output))\n",
    "        return output.permute(0, 2, 1)"
   ],
   "metadata": {
    "collapsed": false,
    "pycharm": {
     "name": "#%%\n"
    }
   }
  },
  {
   "cell_type": "code",
   "execution_count": null,
   "outputs": [],
   "source": [
    "class DecoderBlock(nn.Module):\n",
    "    def __init__(self, embedding_dim, num_heads, dropout = 0):\n",
    "        self.attention_matrices_1 = None\n",
    "        self.attention_matrices_2 = None\n",
    "\n",
    "        self.multi_head_attention_1 = nn.MultiheadAttention(embed_dim=embedding_dim, num_heads=num_heads, batch_first=True)\n",
    "        self.norm_1 = nn.LayerNorm(embedding_dim)\n",
    "        self.dropout_1 = nn.Dropout(p = dropout)\n",
    "\n",
    "\n",
    "        self.multi_head_attention_2 = nn.MultiheadAttention(embed_dim=embedding_dim, num_heads=num_heads, batch_first=True)\n",
    "        self.norm_2 = nn.LayerNorm(embedding_dim)\n",
    "        self.dropout_2 = nn.Dropout(p = dropout)\n",
    "\n",
    "        self.fully_connected = nn.Sequential(\n",
    "            nn.Conv1d(in_channels=embedding_dim, out_channels=embedding_dim, kernel_size=1, stride=1, padding=0),\n",
    "            nn.ReLU(),\n",
    "            nn.Conv1d(in_channels=embedding_dim, out_channels=embedding_dim, kernel_size=1, stride=1, padding=0)\n",
    "        )\n",
    "\n",
    "        self.norm_3 = nn.LayerNorm(embedding_dim)\n",
    "        self.dropout_3 = nn.Dropout(p = dropout)\n",
    "\n"
   ],
   "metadata": {
    "collapsed": false,
    "pycharm": {
     "name": "#%%\n"
    }
   }
  },
  {
   "cell_type": "markdown",
   "source": [
    "# Checking the Code"
   ],
   "metadata": {
    "collapsed": false,
    "pycharm": {
     "name": "#%% md\n"
    }
   }
  },
  {
   "cell_type": "code",
   "execution_count": 10,
   "outputs": [
    {
     "data": {
      "text/plain": "(tensor([[[-6.2313e-02,  5.3883e-02, -4.7997e-02,  ...,  5.3505e-02,\n            3.1756e-03, -5.7489e-02],\n          [-2.2390e-02,  9.8850e-02,  5.2497e-03,  ...,  1.8847e-02,\n           -2.1615e-02, -3.9953e-02],\n          [-8.9739e-02,  3.3419e-02,  4.3425e-03,  ...,  3.9003e-02,\n           -7.0934e-03, -9.7791e-02],\n          ...,\n          [-7.5032e-02,  7.7434e-02,  4.5893e-02,  ..., -9.8724e-03,\n           -4.8991e-02, -7.6481e-02],\n          [-4.2733e-02, -2.8502e-02, -8.1618e-02,  ...,  3.6784e-02,\n           -2.3941e-02, -3.0400e-02],\n          [-1.7001e-01,  1.5190e-01, -1.1051e-01,  ...,  8.5148e-02,\n           -2.4537e-02, -3.2341e-04]],\n \n         [[ 4.6253e-02,  5.3670e-03,  1.2932e-01,  ..., -8.6938e-02,\n           -1.7344e-02, -3.5458e-02],\n          [-4.3330e-02,  4.7686e-02,  1.1634e-01,  ..., -1.0411e-01,\n           -1.4437e-02,  1.2916e-02],\n          [-2.3927e-02,  5.7526e-02,  1.2591e-01,  ..., -6.1286e-02,\n           -1.3235e-02,  5.2719e-03],\n          ...,\n          [ 4.9867e-03,  1.1279e-01,  1.2450e-01,  ...,  1.7273e-02,\n            2.5404e-03, -1.8476e-04],\n          [ 1.0975e-02, -1.4578e-02,  1.0966e-01,  ..., -9.8040e-02,\n           -2.0949e-02, -9.4544e-03],\n          [-4.5713e-02,  5.3133e-02,  1.1661e-01,  ..., -9.7460e-02,\n           -4.8094e-02,  7.0290e-02]],\n \n         [[ 1.1656e-01,  8.7771e-02,  8.7894e-02,  ...,  6.2082e-02,\n           -4.9950e-02,  1.1429e-01],\n          [ 8.1729e-02,  1.4480e-01,  1.4825e-01,  ...,  5.9004e-02,\n           -2.7613e-02,  8.8796e-02],\n          [ 8.1990e-02,  1.2626e-01,  1.6321e-01,  ...,  4.9960e-02,\n           -1.3391e-02,  1.8254e-01],\n          ...,\n          [ 1.1309e-01,  9.0206e-02,  9.7452e-02,  ...,  8.6747e-02,\n           -1.0368e-02,  5.1477e-02],\n          [ 1.7035e-01,  5.8124e-02,  1.1330e-01,  ..., -4.2005e-02,\n           -3.0608e-02,  8.6277e-02],\n          [ 1.5813e-01,  1.7536e-01,  1.4279e-01,  ...,  7.4472e-02,\n           -3.1808e-03,  5.5270e-02]],\n \n         ...,\n \n         [[-4.9352e-02, -2.6142e-02,  5.7456e-02,  ..., -1.5942e-02,\n            1.3958e-02, -7.5604e-02],\n          [-9.0813e-02,  6.2788e-02,  3.5570e-02,  ..., -8.0722e-03,\n           -3.3998e-02, -9.2386e-02],\n          [-2.2811e-01,  1.6354e-02, -4.8888e-02,  ..., -9.6185e-03,\n           -3.0485e-02, -5.8788e-02],\n          ...,\n          [-4.4069e-02,  5.3647e-02, -1.6573e-03,  ...,  2.2032e-02,\n           -4.9260e-02, -1.1067e-01],\n          [-5.9240e-02,  4.2367e-02, -1.0516e-03,  ..., -2.6197e-02,\n           -8.6957e-02, -9.6081e-02],\n          [-1.6716e-01,  1.4429e-01,  8.8485e-03,  ..., -1.2668e-02,\n            1.1182e-02, -4.5717e-02]],\n \n         [[-9.4946e-03,  3.0816e-02, -5.6476e-02,  ..., -9.8662e-03,\n            3.7493e-02,  4.3283e-02],\n          [ 5.0438e-02,  9.2584e-02,  3.0850e-03,  ...,  1.0725e-01,\n           -1.1579e-01,  5.7782e-03],\n          [ 2.2880e-02,  2.2815e-02,  4.0894e-02,  ...,  8.8567e-04,\n            2.2936e-02, -9.3024e-03],\n          ...,\n          [ 1.4230e-01, -5.1319e-02, -1.0050e-02,  ..., -4.8275e-02,\n            4.8431e-02,  2.3451e-02],\n          [ 9.9472e-02,  4.7545e-02,  8.7468e-03,  ..., -7.1944e-02,\n           -2.1257e-02, -1.2194e-02],\n          [-9.8463e-03,  2.4079e-02, -8.7589e-02,  ...,  4.2521e-02,\n            8.1054e-03, -5.9035e-02]],\n \n         [[-3.3724e-02,  4.9351e-02,  3.6422e-02,  ..., -2.1080e-02,\n           -2.9543e-02, -3.4591e-02],\n          [ 6.8226e-02, -4.6197e-02,  4.4114e-02,  ..., -4.1565e-02,\n            1.0512e-02,  1.7600e-01],\n          [ 3.9749e-02, -5.5950e-02,  7.9719e-02,  ..., -5.4842e-02,\n            2.8868e-02,  2.1628e-02],\n          ...,\n          [-4.7126e-02,  4.2771e-02,  2.1502e-02,  ...,  3.0364e-02,\n           -3.0768e-02, -4.6043e-02],\n          [-2.1856e-02,  6.8274e-02, -3.6827e-02,  ...,  1.6225e-02,\n            7.8340e-03,  2.5321e-02],\n          [ 2.5010e-02, -1.7523e-02, -3.1341e-02,  ..., -5.8157e-02,\n           -6.0552e-02,  2.5559e-02]]], grad_fn=<TransposeBackward0>),\n tensor([[[0.0192, 0.0170, 0.0174,  ..., 0.0175, 0.0237, 0.0185],\n          [0.0190, 0.0194, 0.0172,  ..., 0.0231, 0.0171, 0.0220],\n          [0.0161, 0.0231, 0.0339,  ..., 0.0276, 0.0193, 0.0171],\n          ...,\n          [0.0149, 0.0202, 0.0221,  ..., 0.0213, 0.0159, 0.0146],\n          [0.0216, 0.0215, 0.0205,  ..., 0.0157, 0.0285, 0.0149],\n          [0.0292, 0.0214, 0.0091,  ..., 0.0179, 0.0261, 0.0380]],\n \n         [[0.0228, 0.0185, 0.0186,  ..., 0.0310, 0.0200, 0.0148],\n          [0.0128, 0.0231, 0.0197,  ..., 0.0150, 0.0194, 0.0238],\n          [0.0254, 0.0168, 0.0218,  ..., 0.0132, 0.0239, 0.0181],\n          ...,\n          [0.0215, 0.0326, 0.0234,  ..., 0.0191, 0.0171, 0.0226],\n          [0.0150, 0.0246, 0.0199,  ..., 0.0198, 0.0347, 0.0211],\n          [0.0148, 0.0150, 0.0281,  ..., 0.0142, 0.0184, 0.0195]],\n \n         [[0.0222, 0.0172, 0.0174,  ..., 0.0171, 0.0164, 0.0137],\n          [0.0178, 0.0164, 0.0262,  ..., 0.0141, 0.0213, 0.0197],\n          [0.0238, 0.0186, 0.0224,  ..., 0.0204, 0.0202, 0.0183],\n          ...,\n          [0.0195, 0.0214, 0.0172,  ..., 0.0279, 0.0171, 0.0220],\n          [0.0171, 0.0236, 0.0173,  ..., 0.0327, 0.0415, 0.0170],\n          [0.0182, 0.0234, 0.0223,  ..., 0.0139, 0.0203, 0.0169]],\n \n         ...,\n \n         [[0.0189, 0.0207, 0.0164,  ..., 0.0155, 0.0215, 0.0200],\n          [0.0180, 0.0189, 0.0172,  ..., 0.0161, 0.0207, 0.0183],\n          [0.0153, 0.0151, 0.0280,  ..., 0.0163, 0.0245, 0.0178],\n          ...,\n          [0.0172, 0.0202, 0.0172,  ..., 0.0160, 0.0224, 0.0193],\n          [0.0239, 0.0165, 0.0182,  ..., 0.0197, 0.0234, 0.0176],\n          [0.0140, 0.0190, 0.0138,  ..., 0.0245, 0.0175, 0.0153]],\n \n         [[0.0245, 0.0183, 0.0202,  ..., 0.0163, 0.0156, 0.0183],\n          [0.0257, 0.0147, 0.0240,  ..., 0.0184, 0.0232, 0.0154],\n          [0.0166, 0.0204, 0.0179,  ..., 0.0179, 0.0175, 0.0193],\n          ...,\n          [0.0202, 0.0203, 0.0175,  ..., 0.0193, 0.0146, 0.0247],\n          [0.0220, 0.0282, 0.0193,  ..., 0.0156, 0.0198, 0.0221],\n          [0.0169, 0.0157, 0.0159,  ..., 0.0238, 0.0179, 0.0188]],\n \n         [[0.0173, 0.0161, 0.0184,  ..., 0.0202, 0.0196, 0.0190],\n          [0.0245, 0.0199, 0.0230,  ..., 0.0168, 0.0209, 0.0203],\n          [0.0206, 0.0167, 0.0314,  ..., 0.0155, 0.0164, 0.0210],\n          ...,\n          [0.0187, 0.0220, 0.0252,  ..., 0.0197, 0.0206, 0.0196],\n          [0.0196, 0.0187, 0.0174,  ..., 0.0218, 0.0244, 0.0239],\n          [0.0206, 0.0230, 0.0156,  ..., 0.0184, 0.0243, 0.0254]]],\n        grad_fn=<MeanBackward1>))"
     },
     "execution_count": 10,
     "metadata": {},
     "output_type": "execute_result"
    }
   ],
   "source": [
    "batch_size = 10\n",
    "patch_size = 4\n",
    "height_and_width = 28\n",
    "D = 64\n",
    "N = int(height_and_width**2 / patch_size**2)\n",
    "H = 8\n",
    "dimensions = int(D / H)\n",
    "\n",
    "multi_head_attention = nn.MultiheadAttention(D, H, batch_first=True)\n",
    "input = torch.randn(batch_size, N + 1, D)\n",
    "output = multi_head_attention(input, input, input, average_attn_weights=True)\n",
    "output"
   ],
   "metadata": {
    "collapsed": false,
    "pycharm": {
     "name": "#%%\n"
    }
   }
  },
  {
   "cell_type": "code",
   "execution_count": 11,
   "outputs": [
    {
     "data": {
      "text/plain": "torch.Size([10, 50, 64])"
     },
     "execution_count": 11,
     "metadata": {},
     "output_type": "execute_result"
    }
   ],
   "source": [
    "input.permute(0, 2, 1).permute(0, 2, 1).shape"
   ],
   "metadata": {
    "collapsed": false,
    "pycharm": {
     "name": "#%%\n"
    }
   }
  },
  {
   "cell_type": "code",
   "execution_count": 17,
   "outputs": [
    {
     "name": "stdout",
     "output_type": "stream",
     "text": [
      "torch.Size([10, 50, 64])\n",
      "attention_output dim: torch.Size([10, 50, 64])\n"
     ]
    }
   ],
   "source": [
    "batch_size = 10\n",
    "patch_size = 4\n",
    "height_and_width = 28\n",
    "D = 64\n",
    "N = int(height_and_width**2 / patch_size**2)\n",
    "H = 8\n",
    "C = 64\n",
    "dimensions = int(D / H)\n",
    "\n",
    "multi_head_attention = EncoderBlock(D, H)\n",
    "input = torch.randn(batch_size, N+1, D)\n",
    "print(input.shape)\n",
    "output = multi_head_attention(input, input)"
   ],
   "metadata": {
    "collapsed": false,
    "pycharm": {
     "name": "#%%\n"
    }
   }
  },
  {
   "cell_type": "code",
   "execution_count": 13,
   "outputs": [
    {
     "name": "stdout",
     "output_type": "stream",
     "text": [
      "Using downloaded and verified file: /Users/bartoszgawin/.medmnist/dermamnist.npz\n"
     ]
    }
   ],
   "source": [
    "from torchvision import transforms\n",
    "from medmnist import DermaMNIST\n",
    "from torch.utils.data import DataLoader\n",
    "\n",
    "train_transformations = transforms.Compose([\n",
    "    transforms.RandomHorizontalFlip(),\n",
    "    transforms.RandomRotation(10),\n",
    "    transforms.ColorJitter(brightness=0.2),\n",
    "    transforms.ToTensor(),\n",
    "    transforms.Normalize(0.5, 0.5),\n",
    "])\n",
    "\n",
    "train_download = DermaMNIST(split='train', transform=train_transformations, download=True)"
   ],
   "metadata": {
    "collapsed": false,
    "pycharm": {
     "name": "#%%\n"
    }
   }
  },
  {
   "cell_type": "code",
   "execution_count": 14,
   "outputs": [
    {
     "name": "stdout",
     "output_type": "stream",
     "text": [
      "torch.Size([2, 3, 224, 224])\n"
     ]
    }
   ],
   "source": [
    "x = torch.rand(2, 3, 224, 224)\n",
    "print(x.shape)\n",
    "output = resnet18(x)"
   ],
   "metadata": {
    "collapsed": false,
    "pycharm": {
     "name": "#%%\n"
    }
   }
  },
  {
   "cell_type": "code",
   "execution_count": 15,
   "outputs": [
    {
     "data": {
      "text/plain": "torch.Size([2, 256, 7, 7])"
     },
     "execution_count": 15,
     "metadata": {},
     "output_type": "execute_result"
    }
   ],
   "source": [
    "output.shape"
   ],
   "metadata": {
    "collapsed": false,
    "pycharm": {
     "name": "#%%\n"
    }
   }
  },
  {
   "cell_type": "markdown",
   "source": [
    "# Source Code of ResNet"
   ],
   "metadata": {
    "collapsed": false,
    "pycharm": {
     "name": "#%% md\n"
    }
   }
  },
  {
   "cell_type": "code",
   "execution_count": 16,
   "outputs": [
    {
     "ename": "NameError",
     "evalue": "name 'Type' is not defined",
     "output_type": "error",
     "traceback": [
      "\u001B[0;31m---------------------------------------------------------------------------\u001B[0m",
      "\u001B[0;31mNameError\u001B[0m                                 Traceback (most recent call last)",
      "Cell \u001B[0;32mIn[16], line 2\u001B[0m\n\u001B[1;32m      1\u001B[0m \u001B[38;5;66;03m# Source code of ResNet\u001B[39;00m\n\u001B[0;32m----> 2\u001B[0m \u001B[38;5;28;43;01mclass\u001B[39;49;00m\u001B[43m \u001B[49m\u001B[38;5;21;43;01mResNet\u001B[39;49;00m\u001B[43m(\u001B[49m\u001B[43mnn\u001B[49m\u001B[38;5;241;43m.\u001B[39;49m\u001B[43mModule\u001B[49m\u001B[43m)\u001B[49m\u001B[43m:\u001B[49m\n\u001B[1;32m      3\u001B[0m \u001B[43m    \u001B[49m\u001B[38;5;28;43;01mdef\u001B[39;49;00m\u001B[43m \u001B[49m\u001B[38;5;21;43m__init__\u001B[39;49m\u001B[43m(\u001B[49m\n\u001B[1;32m      4\u001B[0m \u001B[43m            \u001B[49m\u001B[38;5;28;43mself\u001B[39;49m\u001B[43m,\u001B[49m\n\u001B[1;32m      5\u001B[0m \u001B[43m            \u001B[49m\u001B[43mblock\u001B[49m\u001B[43m:\u001B[49m\u001B[43m \u001B[49m\u001B[43mType\u001B[49m\u001B[43m[\u001B[49m\u001B[43mUnion\u001B[49m\u001B[43m[\u001B[49m\u001B[43mBasicBlock\u001B[49m\u001B[43m,\u001B[49m\u001B[43m \u001B[49m\u001B[43mBottleneck\u001B[49m\u001B[43m]\u001B[49m\u001B[43m]\u001B[49m\u001B[43m,\u001B[49m\n\u001B[0;32m   (...)\u001B[0m\n\u001B[1;32m     12\u001B[0m \u001B[43m            \u001B[49m\u001B[43mnorm_layer\u001B[49m\u001B[43m:\u001B[49m\u001B[43m \u001B[49m\u001B[43mOptional\u001B[49m\u001B[43m[\u001B[49m\u001B[43mCallable\u001B[49m\u001B[43m[\u001B[49m\u001B[38;5;241;43m.\u001B[39;49m\u001B[38;5;241;43m.\u001B[39;49m\u001B[38;5;241;43m.\u001B[39;49m\u001B[43m,\u001B[49m\u001B[43m \u001B[49m\u001B[43mnn\u001B[49m\u001B[38;5;241;43m.\u001B[39;49m\u001B[43mModule\u001B[49m\u001B[43m]\u001B[49m\u001B[43m]\u001B[49m\u001B[43m \u001B[49m\u001B[38;5;241;43m=\u001B[39;49m\u001B[43m \u001B[49m\u001B[38;5;28;43;01mNone\u001B[39;49;00m\u001B[43m,\u001B[49m\n\u001B[1;32m     13\u001B[0m \u001B[43m    \u001B[49m\u001B[43m)\u001B[49m\u001B[43m \u001B[49m\u001B[38;5;241;43m-\u001B[39;49m\u001B[38;5;241;43m>\u001B[39;49m\u001B[43m \u001B[49m\u001B[38;5;28;43;01mNone\u001B[39;49;00m\u001B[43m:\u001B[49m\n\u001B[1;32m     14\u001B[0m \u001B[43m        \u001B[49m\u001B[38;5;28;43msuper\u001B[39;49m\u001B[43m(\u001B[49m\u001B[43m)\u001B[49m\u001B[38;5;241;43m.\u001B[39;49m\u001B[38;5;21;43m__init__\u001B[39;49m\u001B[43m(\u001B[49m\u001B[43m)\u001B[49m\n",
      "Cell \u001B[0;32mIn[16], line 5\u001B[0m, in \u001B[0;36mResNet\u001B[0;34m()\u001B[0m\n\u001B[1;32m      2\u001B[0m \u001B[38;5;28;01mclass\u001B[39;00m \u001B[38;5;21;01mResNet\u001B[39;00m(nn\u001B[38;5;241m.\u001B[39mModule):\n\u001B[1;32m      3\u001B[0m     \u001B[38;5;28;01mdef\u001B[39;00m \u001B[38;5;21m__init__\u001B[39m(\n\u001B[1;32m      4\u001B[0m             \u001B[38;5;28mself\u001B[39m,\n\u001B[0;32m----> 5\u001B[0m             block: \u001B[43mType\u001B[49m[Union[BasicBlock, Bottleneck]],\n\u001B[1;32m      6\u001B[0m             layers: List[\u001B[38;5;28mint\u001B[39m],\n\u001B[1;32m      7\u001B[0m             num_classes: \u001B[38;5;28mint\u001B[39m \u001B[38;5;241m=\u001B[39m \u001B[38;5;241m1000\u001B[39m,\n\u001B[1;32m      8\u001B[0m             zero_init_residual: \u001B[38;5;28mbool\u001B[39m \u001B[38;5;241m=\u001B[39m \u001B[38;5;28;01mFalse\u001B[39;00m,\n\u001B[1;32m      9\u001B[0m             groups: \u001B[38;5;28mint\u001B[39m \u001B[38;5;241m=\u001B[39m \u001B[38;5;241m1\u001B[39m,\n\u001B[1;32m     10\u001B[0m             width_per_group: \u001B[38;5;28mint\u001B[39m \u001B[38;5;241m=\u001B[39m \u001B[38;5;241m64\u001B[39m,\n\u001B[1;32m     11\u001B[0m             replace_stride_with_dilation: Optional[List[\u001B[38;5;28mbool\u001B[39m]] \u001B[38;5;241m=\u001B[39m \u001B[38;5;28;01mNone\u001B[39;00m,\n\u001B[1;32m     12\u001B[0m             norm_layer: Optional[Callable[\u001B[38;5;241m.\u001B[39m\u001B[38;5;241m.\u001B[39m\u001B[38;5;241m.\u001B[39m, nn\u001B[38;5;241m.\u001B[39mModule]] \u001B[38;5;241m=\u001B[39m \u001B[38;5;28;01mNone\u001B[39;00m,\n\u001B[1;32m     13\u001B[0m     ) \u001B[38;5;241m-\u001B[39m\u001B[38;5;241m>\u001B[39m \u001B[38;5;28;01mNone\u001B[39;00m:\n\u001B[1;32m     14\u001B[0m         \u001B[38;5;28msuper\u001B[39m()\u001B[38;5;241m.\u001B[39m\u001B[38;5;21m__init__\u001B[39m()\n\u001B[1;32m     15\u001B[0m         _log_api_usage_once(\u001B[38;5;28mself\u001B[39m)\n",
      "\u001B[0;31mNameError\u001B[0m: name 'Type' is not defined"
     ]
    }
   ],
   "source": [
    "# Source code of ResNet\n",
    "class ResNet(nn.Module):\n",
    "    def __init__(\n",
    "            self,\n",
    "            block: Type[Union[BasicBlock, Bottleneck]],\n",
    "            layers: List[int],\n",
    "            num_classes: int = 1000,\n",
    "            zero_init_residual: bool = False,\n",
    "            groups: int = 1,\n",
    "            width_per_group: int = 64,\n",
    "            replace_stride_with_dilation: Optional[List[bool]] = None,\n",
    "            norm_layer: Optional[Callable[..., nn.Module]] = None,\n",
    "    ) -> None:\n",
    "        super().__init__()\n",
    "        _log_api_usage_once(self)\n",
    "        if norm_layer is None:\n",
    "            norm_layer = nn.BatchNorm2d\n",
    "        self._norm_layer = norm_layer\n",
    "\n",
    "        self.inplanes = 64\n",
    "        self.dilation = 1\n",
    "        if replace_stride_with_dilation is None:\n",
    "            # each element in the tuple indicates if we should replace\n",
    "            # the 2x2 stride with a dilated convolution instead\n",
    "            replace_stride_with_dilation = [False, False, False]\n",
    "        if len(replace_stride_with_dilation) != 3:\n",
    "            raise ValueError(\n",
    "                \"replace_stride_with_dilation should be None \"\n",
    "                f\"or a 3-element tuple, got {replace_stride_with_dilation}\"\n",
    "            )\n",
    "        self.groups = groups\n",
    "        self.base_width = width_per_group\n",
    "        self.conv1 = nn.Conv2d(3, self.inplanes, kernel_size=7, stride=2, padding=3, bias=False)\n",
    "        self.bn1 = norm_layer(self.inplanes)\n",
    "        self.relu = nn.ReLU(inplace=True)\n",
    "        self.maxpool = nn.MaxPool2d(kernel_size=3, stride=2, padding=1)\n",
    "        self.layer1 = self._make_layer(block, 64, layers[0])\n",
    "        self.layer2 = self._make_layer(block, 128, layers[1], stride=2, dilate=replace_stride_with_dilation[0])\n",
    "        self.layer3 = self._make_layer(block, 256, layers[2], stride=2, dilate=replace_stride_with_dilation[1])\n",
    "        self.layer4 = self._make_layer(block, 512, layers[3], stride=2, dilate=replace_stride_with_dilation[2])\n",
    "        self.avgpool = nn.AdaptiveAvgPool2d((1, 1))\n",
    "        self.fc = nn.Linear(512 * block.expansion, num_classes)\n",
    "\n",
    "        for m in self.modules():\n",
    "            if isinstance(m, nn.Conv2d):\n",
    "                nn.init.kaiming_normal_(m.weight, mode=\"fan_out\", nonlinearity=\"relu\")\n",
    "            elif isinstance(m, (nn.BatchNorm2d, nn.GroupNorm)):\n",
    "                nn.init.constant_(m.weight, 1)\n",
    "                nn.init.constant_(m.bias, 0)\n",
    "\n",
    "        # Zero-initialize the last BN in each residual branch,\n",
    "        # so that the residual branch starts with zeros, and each residual block behaves like an identity.\n",
    "        # This improves the model by 0.2~0.3% according to https://arxiv.org/abs/1706.02677\n",
    "        if zero_init_residual:\n",
    "            for m in self.modules():\n",
    "                if isinstance(m, Bottleneck) and m.bn3.weight is not None:\n",
    "                    nn.init.constant_(m.bn3.weight, 0)  # type: ignore[arg-type]\n",
    "                elif isinstance(m, BasicBlock) and m.bn2.weight is not None:\n",
    "                    nn.init.constant_(m.bn2.weight, 0)  # type: ignore[arg-type]\n",
    "\n",
    "    def _make_layer(\n",
    "            self,\n",
    "            block: Type[Union[BasicBlock, Bottleneck]],\n",
    "            planes: int,\n",
    "            blocks: int,\n",
    "            stride: int = 1,\n",
    "            dilate: bool = False,\n",
    "    ) -> nn.Sequential:\n",
    "        norm_layer = self._norm_layer\n",
    "        downsample = None\n",
    "        previous_dilation = self.dilation\n",
    "        if dilate:\n",
    "            self.dilation *= stride\n",
    "            stride = 1\n",
    "        if stride != 1 or self.inplanes != planes * block.expansion:\n",
    "            downsample = nn.Sequential(\n",
    "                conv1x1(self.inplanes, planes * block.expansion, stride),\n",
    "                norm_layer(planes * block.expansion),\n",
    "            )\n",
    "\n",
    "        layers = []\n",
    "        layers.append(\n",
    "            block(\n",
    "                self.inplanes, planes, stride, downsample, self.groups, self.base_width, previous_dilation, norm_layer\n",
    "            )\n",
    "        )\n",
    "        self.inplanes = planes * block.expansion\n",
    "        for _ in range(1, blocks):\n",
    "            layers.append(\n",
    "                block(\n",
    "                    self.inplanes,\n",
    "                    planes,\n",
    "                    groups=self.groups,\n",
    "                    base_width=self.base_width,\n",
    "                    dilation=self.dilation,\n",
    "                    norm_layer=norm_layer,\n",
    "                )\n",
    "            )\n",
    "\n",
    "        return nn.Sequential(*layers)\n",
    "\n",
    "    def _forward_impl(self, x: Tensor) -> Tensor:\n",
    "        # See note [TorchScript super()]\n",
    "        x = self.conv1(x)\n",
    "        x = self.bn1(x)\n",
    "        x = self.relu(x)\n",
    "        x = self.maxpool(x)\n",
    "\n",
    "        x = self.layer1(x)\n",
    "        x = self.layer2(x)\n",
    "        x = self.layer3(x)\n",
    "        x = self.layer4(x)\n",
    "\n",
    "        x = self.avgpool(x)\n",
    "        x = torch.flatten(x, 1)\n",
    "        x = self.fc(x)\n",
    "\n",
    "        return x\n",
    "\n",
    "    def forward(self, x: Tensor) -> Tensor:\n",
    "        return self._forward_impl(x)"
   ],
   "metadata": {
    "collapsed": false,
    "pycharm": {
     "name": "#%%\n"
    }
   }
  },
  {
   "cell_type": "code",
   "execution_count": null,
   "outputs": [],
   "source": [],
   "metadata": {
    "collapsed": false,
    "pycharm": {
     "name": "#%%\n"
    }
   }
  }
 ],
 "metadata": {
  "kernelspec": {
   "display_name": "Python 3",
   "language": "python",
   "name": "python3"
  },
  "language_info": {
   "codemirror_mode": {
    "name": "ipython",
    "version": 2
   },
   "file_extension": ".py",
   "mimetype": "text/x-python",
   "name": "python",
   "nbconvert_exporter": "python",
   "pygments_lexer": "ipython2",
   "version": "2.7.6"
  }
 },
 "nbformat": 4,
 "nbformat_minor": 0
}