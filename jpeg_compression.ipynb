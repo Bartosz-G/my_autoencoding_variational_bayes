{
 "cells": [
  {
   "cell_type": "code",
   "execution_count": 186,
   "metadata": {
    "collapsed": true,
    "pycharm": {
     "name": "#%%\n"
    }
   },
   "outputs": [],
   "source": [
    "import torch\n",
    "import numpy as np\n",
    "from torchvision.datasets import CIFAR10\n",
    "from torch.utils.data import DataLoader\n",
    "import torchvision.transforms as transforms\n",
    "import os\n",
    "from scipy.fft import dctn, idctn\n",
    "\n",
    "import matplotlib.pyplot as plt"
   ]
  },
  {
   "cell_type": "code",
   "execution_count": 165,
   "outputs": [],
   "source": [
    "download_path = os.path.join(os.getcwd(), 'cifar10')\n",
    "\n",
    "if not os.path.exists(download_path):\n",
    "    os.makedirs(download_path)"
   ],
   "metadata": {
    "collapsed": false,
    "pycharm": {
     "name": "#%%\n"
    }
   }
  },
  {
   "cell_type": "code",
   "execution_count": 166,
   "outputs": [
    {
     "name": "stdout",
     "output_type": "stream",
     "text": [
      "Files already downloaded and verified\n"
     ]
    }
   ],
   "source": [
    "transform = transforms.Compose([transforms.ToTensor()])\n",
    "\n",
    "train_dataset = CIFAR10(download_path, transform=transform, download=True)"
   ],
   "metadata": {
    "collapsed": false,
    "pycharm": {
     "name": "#%%\n"
    }
   }
  },
  {
   "cell_type": "code",
   "execution_count": 167,
   "outputs": [
    {
     "data": {
      "text/plain": "torch.Size([3, 32, 32])"
     },
     "execution_count": 167,
     "metadata": {},
     "output_type": "execute_result"
    }
   ],
   "source": [
    "train_dataset[0][0].shape"
   ],
   "metadata": {
    "collapsed": false,
    "pycharm": {
     "name": "#%%\n"
    }
   }
  },
  {
   "cell_type": "code",
   "execution_count": 168,
   "outputs": [],
   "source": [
    "rgb_image = train_dataset[0][0]"
   ],
   "metadata": {
    "collapsed": false,
    "pycharm": {
     "name": "#%%\n"
    }
   }
  },
  {
   "cell_type": "code",
   "execution_count": 169,
   "outputs": [],
   "source": [
    "def rgb_to_ycbcr(image: torch.Tensor) -> torch.Tensor:\n",
    "    r\"\"\"Convert an RGB image to YCbCr.\n",
    "\n",
    "    Args:\n",
    "        image (torch.Tensor): RGB Image to be converted to YCbCr.\n",
    "\n",
    "    Returns:\n",
    "        torch.Tensor: YCbCr version of the image.\n",
    "    \"\"\"\n",
    "\n",
    "    if not torch.is_tensor(image):\n",
    "        raise TypeError(\"Input type is not a torch.Tensor. Got {}\".format(\n",
    "            type(image)))\n",
    "\n",
    "    if len(image.shape) < 3 or image.shape[-3] != 3:\n",
    "        raise ValueError(\"Input size must have a shape of (*, 3, H, W). Got {}\"\n",
    "                         .format(image.shape))\n",
    "\n",
    "    r: torch.Tensor = image[..., 0, :, :]\n",
    "    g: torch.Tensor = image[..., 1, :, :]\n",
    "    b: torch.Tensor = image[..., 2, :, :]\n",
    "\n",
    "    delta = .5\n",
    "    y: torch.Tensor = .299 * r + .587 * g + .114 * b\n",
    "    cb: torch.Tensor = -0.168736 * r - 0.331264 * g + .5 * b + 128\n",
    "    cr: torch.Tensor = .5 * r - .418688 * g - .081312 * b + 128\n",
    "    return torch.stack((y, cb, cr), -3)"
   ],
   "metadata": {
    "collapsed": false,
    "pycharm": {
     "name": "#%%\n"
    }
   }
  },
  {
   "cell_type": "code",
   "execution_count": 170,
   "outputs": [],
   "source": [
    "def ycbcr_to_rgb(image: torch.Tensor) -> torch.Tensor:\n",
    "\n",
    "    r\"\"\"Convert an YCbCr image to RGB.\n",
    "\n",
    "     Args:\n",
    "         image (torch.Tensor): YCbCr Image to be converted to RGB.\n",
    "\n",
    "     Returns:\n",
    "         torch.Tensor: RGB version of the image.\n",
    "     \"\"\"\n",
    "\n",
    "    if not torch.is_tensor(image):\n",
    "        raise TypeError(\"Input type is not a torch.Tensor. Got {}\".format(\n",
    "            type(image)))\n",
    "\n",
    "    if len(image.shape) < 3 or image.shape[-3] != 3:\n",
    "        raise ValueError(\"Input size must have a shape of (*, 3, H, W). Got {}\"\n",
    "                         .format(image.shape))\n",
    "\n",
    "    Y: torch.Tensor = image[..., 0, :, :]\n",
    "    Cb: torch.Tensor = image[..., 1, :, :] - 128\n",
    "    Cr: torch.Tensor = image[..., 2, :, :] - 128\n",
    "\n",
    "    R: torch.Tensor = Y + 1.40210 * Cr\n",
    "    G: torch.Tensor = Y - 0.34414 * Cb - .71414 * Cr\n",
    "    B: torch.Tensor = Y + 1.7718 * Cb\n",
    "    return torch.stack((R, G, B), -3)"
   ],
   "metadata": {
    "collapsed": false,
    "pycharm": {
     "name": "#%%\n"
    }
   }
  },
  {
   "cell_type": "code",
   "execution_count": 171,
   "outputs": [],
   "source": [
    "ycbcr_image = rgb_to_ycbcr(rgb_image * 255)"
   ],
   "metadata": {
    "collapsed": false,
    "pycharm": {
     "name": "#%%\n"
    }
   }
  },
  {
   "cell_type": "code",
   "execution_count": 172,
   "outputs": [],
   "source": [
    "first_patch = ycbcr_image[..., :, 0:8, 0:8]\n",
    "luminance_patch = first_patch[0, :, :]"
   ],
   "metadata": {
    "collapsed": false,
    "pycharm": {
     "name": "#%%\n"
    }
   }
  },
  {
   "cell_type": "code",
   "execution_count": 173,
   "outputs": [],
   "source": [
    "dct_luminance_patch = torch.zeros(*luminance_patch.shape)"
   ],
   "metadata": {
    "collapsed": false,
    "pycharm": {
     "name": "#%%\n"
    }
   }
  },
  {
   "cell_type": "code",
   "execution_count": 174,
   "outputs": [],
   "source": [
    "def _patch_to_dct(luminance: torch.Tensor) -> torch.Tensor:\n",
    "    pi = torch.tensor(torch.pi)\n",
    "\n",
    "    dct_luminance_patch = torch.zeros(*luminance.shape)\n",
    "\n",
    "    for u in range(0, 8):\n",
    "        for v in range(0,8):\n",
    "            Cu = torch.sqrt(torch.tensor(0.5)) if u == 0 else torch.tensor(1)\n",
    "            Cv = torch.sqrt(torch.tensor(0.5)) if v == 0 else torch.tensor(1)\n",
    "\n",
    "            values = torch.zeros(8,8)\n",
    "            for x in range(0, 8):\n",
    "                for y in range(0, 8):\n",
    "                    u_, v_, x_, y_ = torch.tensor(u), torch.tensor(v), torch.tensor(x), torch.tensor(y)\n",
    "                    cosine = torch.cos(((2*x_+1)*u_*pi)/16)*torch.cos(((2*y_+1)*v_*pi)/16)\n",
    "                    values[x, y] = luminance_patch[x, y] * cosine\n",
    "\n",
    "            dct_luminance_patch[u, v] = 0.25 * Cu * Cv * torch.sum(values)\n",
    "\n",
    "    return dct_luminance_patch"
   ],
   "metadata": {
    "collapsed": false,
    "pycharm": {
     "name": "#%%\n"
    }
   }
  },
  {
   "cell_type": "code",
   "execution_count": 177,
   "outputs": [],
   "source": [
    "def quantize_luminance(dct: torch.Tensor, alpha: int = 1) -> torch.Tensor:\n",
    "    luminance_quantization_matrix = torch.tensor([\n",
    "        [16, 11, 10, 16, 24, 40, 51, 61],\n",
    "        [12, 12, 14, 19, 26, 58, 60, 55],\n",
    "        [14, 13, 16, 24, 40, 57, 69, 56],\n",
    "        [14, 17, 22, 29, 51, 87, 80, 62],\n",
    "        [18, 22, 37, 56, 68, 109, 103, 77],\n",
    "        [24, 35, 55, 64, 81, 104, 113, 92],\n",
    "        [49, 64, 78, 87, 103, 121, 120, 101],\n",
    "        [72, 92, 95, 98, 112, 100, 103, 99]\n",
    "    ])\n",
    "\n",
    "    luminance_quantization_matrix *= alpha\n",
    "\n",
    "    return torch.round(torch.div(dct, luminance_quantization_matrix)).to(torch.int8)"
   ],
   "metadata": {
    "collapsed": false,
    "pycharm": {
     "name": "#%%\n"
    }
   }
  },
  {
   "cell_type": "code",
   "execution_count": 187,
   "outputs": [],
   "source": [
    "def compute_dct(image_patch):\n",
    "    # Convert from PyTorch tensor to NumPy array if necessary\n",
    "    if isinstance(image_patch, torch.Tensor):\n",
    "        image_patch = image_patch.numpy()\n",
    "\n",
    "    # Apply DCT in both dimensions using dctn for n-dimensional DCT\n",
    "    dct_2d = dctn(image_patch, norm='ortho')\n",
    "\n",
    "    # Convert back to PyTorch tensor from NumPy array\n",
    "    return torch.from_numpy(dct_2d)"
   ],
   "metadata": {
    "collapsed": false,
    "pycharm": {
     "name": "#%%\n"
    }
   }
  },
  {
   "cell_type": "code",
   "execution_count": 202,
   "outputs": [],
   "source": [
    "def blockwise_dct(image, block_size=(8, 8)):\n",
    "    # Get the image dimensions\n",
    "    image = image.numpy()\n",
    "    height, width = image.shape\n",
    "    block_height, block_width = block_size\n",
    "\n",
    "    # Prepare an array to hold the DCT coefficients\n",
    "    dct_blocks = np.zeros_like(image, dtype=np.float32)\n",
    "\n",
    "    # Process each block\n",
    "    for i in range(0, height, block_height):\n",
    "        for j in range(0, width, block_width):\n",
    "            # Extract the block from the image\n",
    "            block = image[i:i+block_height, j:j+block_width]\n",
    "\n",
    "            # Apply the 2D DCT to the block\n",
    "            dct_block = dctn(block, norm='ortho')\n",
    "\n",
    "            # Store the DCT coefficients\n",
    "            dct_blocks[i:i+block_height, j:j+block_width] = dct_block\n",
    "\n",
    "    return torch.from_numpy(dct_blocks)"
   ],
   "metadata": {
    "collapsed": false,
    "pycharm": {
     "name": "#%%\n"
    }
   }
  },
  {
   "cell_type": "code",
   "execution_count": 218,
   "outputs": [],
   "source": [
    "def blockwise_quantize_luminance(dct: torch.Tensor, mode = 'l', alpha: int = 1, block_size = (8, 8)) -> torch.Tensor:\n",
    "    luminance_quantization_matrix = torch.tensor([\n",
    "        [16, 11, 10, 16, 24, 40, 51, 61],\n",
    "        [12, 12, 14, 19, 26, 58, 60, 55],\n",
    "        [14, 13, 16, 24, 40, 57, 69, 56],\n",
    "        [14, 17, 22, 29, 51, 87, 80, 62],\n",
    "        [18, 22, 37, 56, 68, 109, 103, 77],\n",
    "        [24, 35, 55, 64, 81, 104, 113, 92],\n",
    "        [49, 64, 78, 87, 103, 121, 120, 101],\n",
    "        [72, 92, 95, 98, 112, 100, 103, 99]\n",
    "    ])\n",
    "\n",
    "    chrominance_quantization_matrix = torch.tensor([\n",
    "        [17, 18, 24, 47, 99, 99, 99, 99],\n",
    "        [18, 21, 26, 66, 99, 99, 99, 99],\n",
    "        [24, 26, 56, 99, 99, 99, 99, 99],\n",
    "        [47, 66, 99, 99, 99, 99, 99, 99],\n",
    "        [99, 99, 99, 99, 99, 99, 99, 99],\n",
    "        [99, 99, 99, 99, 99, 99, 99, 99],\n",
    "        [99, 99, 99, 99, 99, 99, 99, 99],\n",
    "        [99, 99, 99, 99, 99, 99, 99, 99]\n",
    "    ])\n",
    "\n",
    "    quantization_matrix = luminance_quantization_matrix if mode == 'l' else chrominance_quantization_matrix\n",
    "\n",
    "\n",
    "    height, width = dct.shape\n",
    "    block_height, block_width = block_size\n",
    "\n",
    "\n",
    "    quantization_matrix *= alpha\n",
    "\n",
    "    quantisation_blocks = torch.zeros((height, width), dtype=torch.float32)\n",
    "\n",
    "    for i in range(0, height, block_height):\n",
    "        for j in range(0, width, block_width):\n",
    "            # Extract the block from the image\n",
    "            block = dct[i:i+block_height, j:j+block_width]\n",
    "\n",
    "            quantised_block = torch.round(torch.div(block, quantization_matrix)).to(torch.int8)\n",
    "\n",
    "            # Apply the 2D DCT to the block\n",
    "            quantisation_blocks[i:i+block_height, j:j+block_width] = quantised_block\n",
    "\n",
    "    return quantisation_blocks"
   ],
   "metadata": {
    "collapsed": false,
    "pycharm": {
     "name": "#%%\n"
    }
   }
  },
  {
   "cell_type": "code",
   "execution_count": 217,
   "outputs": [
    {
     "name": "stdout",
     "output_type": "stream",
     "text": [
      "[[ 5.8491406e+02 -1.4517218e+02 -3.5958576e+01 ... -6.1379242e-01\n",
      "  -9.7064314e+00 -1.6535378e+00]\n",
      " [-8.7408714e+01 -8.6338623e+01  3.0270355e+01 ...  4.4978607e-02\n",
      "   6.7314968e+00 -6.9103813e-01]\n",
      " [ 4.6285728e+01  1.2139616e+01  4.3125526e+01 ... -5.4089403e+00\n",
      "  -3.0684109e+00  4.6020260e+00]\n",
      " ...\n",
      " [-1.3754064e+01  3.1450195e+00 -9.0244884e+00 ... -6.6093922e+00\n",
      "   1.8308866e+00  1.0422053e+00]\n",
      " [ 1.2474425e+01  1.1125956e+01  3.3378935e+00 ... -2.2370701e+00\n",
      "   3.3754075e-01 -9.3675220e-01]\n",
      " [-1.5882726e+00 -2.0529487e+00  3.2460651e+00 ... -1.8913083e+00\n",
      "   2.9359870e+00 -2.5503957e-01]]\n"
     ]
    },
    {
     "data": {
      "text/plain": "tensor([[ 37., -13.,  -4.,  ...,   0.,   0.,   0.],\n        [ -7.,  -7.,   2.,  ...,   0.,   0.,   0.],\n        [  3.,   1.,   3.,  ...,   0.,   0.,   0.],\n        ...,\n        [ -1.,   0.,   0.,  ...,   0.,   0.,   0.],\n        [  0.,   0.,   0.,  ...,   0.,   0.,   0.],\n        [  0.,   0.,   0.,  ...,   0.,   0.,   0.]])"
     },
     "execution_count": 217,
     "metadata": {},
     "output_type": "execute_result"
    }
   ],
   "source": [
    "dct_values = blockwise_dct(ycbcr_image[0])\n",
    "blockwise_quantize_luminance(dct_values)"
   ],
   "metadata": {
    "collapsed": false,
    "pycharm": {
     "name": "#%%\n"
    }
   }
  },
  {
   "cell_type": "code",
   "execution_count": 188,
   "outputs": [
    {
     "name": "stdout",
     "output_type": "stream",
     "text": [
      "tensor([[ 37, -13,  -4,   1,   0,   0,   0,   0],\n",
      "        [ -7,  -7,   2,   1,   0,   0,   0,   0],\n",
      "        [  3,   1,   3,   0,   0,   0,   0,   0],\n",
      "        [  2,   1,   0,   0,   0,   0,   0,   0],\n",
      "        [  1,   1,   0,   0,   0,   0,   0,   0],\n",
      "        [  1,   1,   0,   0,   0,   0,   0,   0],\n",
      "        [  1,   0,   0,   0,   0,   0,   0,   0],\n",
      "        [  0,   0,   0,   0,   0,   0,   0,   0]], dtype=torch.int8)\n",
      "tensor([[ 37, -13,  -4,   1,   0,   0,   0,   0],\n",
      "        [ -7,  -7,   2,   1,   0,   0,   0,   0],\n",
      "        [  3,   1,   3,   0,   0,   0,   0,   0],\n",
      "        [  2,   1,   0,   0,   0,   0,   0,   0],\n",
      "        [  1,   1,   0,   0,   0,   0,   0,   0],\n",
      "        [  1,   1,   0,   0,   0,   0,   0,   0],\n",
      "        [  1,   0,   0,   0,   0,   0,   0,   0],\n",
      "        [  0,   0,   0,   0,   0,   0,   0,   0]], dtype=torch.int8)\n"
     ]
    }
   ],
   "source": [
    "dct = compute_dct(luminance_patch)\n",
    "dct_2 = _patch_to_dct(luminance_patch)\n",
    "print(quantize_luminance(dct))\n",
    "print(quantize_luminance(dct_2))"
   ],
   "metadata": {
    "collapsed": false,
    "pycharm": {
     "name": "#%%\n"
    }
   }
  },
  {
   "cell_type": "markdown",
   "source": [
    "# Checking the code"
   ],
   "metadata": {
    "collapsed": false,
    "pycharm": {
     "name": "#%% md\n"
    }
   }
  },
  {
   "cell_type": "code",
   "execution_count": 15,
   "outputs": [
    {
     "name": "stderr",
     "output_type": "stream",
     "text": [
      "Clipping input data to the valid range for imshow with RGB data ([0..1] for floats or [0..255] for integers).\n"
     ]
    },
    {
     "data": {
      "text/plain": "<Figure size 640x480 with 1 Axes>",
      "image/png": "[encoded data removed]"
     },
     "metadata": {},
     "output_type": "display_data"
    }
   ],
   "source": [
    "recover = ycbcr_to_rgb(rgb_to_ycbcr(rgb_image*255))\n",
    "plt.imshow(recover.permute(1, 2, 0) / 255)\n",
    "plt.show()"
   ],
   "metadata": {
    "collapsed": false,
    "pycharm": {
     "name": "#%%\n"
    }
   }
  },
  {
   "cell_type": "code",
   "execution_count": 16,
   "outputs": [
    {
     "data": {
      "text/plain": "<Figure size 640x480 with 1 Axes>",
      "image/png": "[encoded data removed]"
     },
     "metadata": {},
     "output_type": "display_data"
    }
   ],
   "source": [
    "plt.imshow(rgb_image.permute(1, 2, 0))\n",
    "plt.show()"
   ],
   "metadata": {
    "collapsed": false,
    "pycharm": {
     "name": "#%%\n"
    }
   }
  },
  {
   "cell_type": "code",
   "execution_count": null,
   "outputs": [],
   "source": [],
   "metadata": {
    "collapsed": false,
    "pycharm": {
     "name": "#%%\n"
    }
   }
  }
 ],
 "metadata": {
  "kernelspec": {
   "display_name": "Python 3",
   "language": "python",
   "name": "python3"
  },
  "language_info": {
   "codemirror_mode": {
    "name": "ipython",
    "version": 2
   },
   "file_extension": ".py",
   "mimetype": "text/x-python",
   "name": "python",
   "nbconvert_exporter": "python",
   "pygments_lexer": "ipython2",
   "version": "2.7.6"
  }
 },
 "nbformat": 4,
 "nbformat_minor": 0
}